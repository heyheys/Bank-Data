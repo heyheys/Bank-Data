{
 "cells": [
  {
   "cell_type": "code",
   "execution_count": 1,
   "metadata": {},
   "outputs": [],
   "source": [
    "%matplotlib inline\n",
    "\n",
    "import pandas as pd\n",
    "import matplotlib.pyplot as plt\n",
    "import numpy as np\n",
    "from sklearn.metrics import roc_auc_score, confusion_matrix, recall_score, make_scorer\n",
    "\n",
    "# Import data\n",
    "bank = pd.read_csv('bank-additional-full.csv', sep=';')"
   ]
  },
  {
   "cell_type": "code",
   "execution_count": 2,
   "metadata": {},
   "outputs": [
    {
     "name": "stdout",
     "output_type": "stream",
     "text": [
      "The data set has 41188 rows and 21 columns.\n"
     ]
    }
   ],
   "source": [
    "# Data exploration\n",
    "print(\"The data set has {} rows and {} columns.\".format(bank.shape[0], bank.shape[1]))"
   ]
  },
  {
   "cell_type": "code",
   "execution_count": 3,
   "metadata": {
    "scrolled": true
   },
   "outputs": [
    {
     "name": "stdout",
     "output_type": "stream",
     "text": [
      "The number of missing values in all columns:\n",
      "age               0\n",
      "job               0\n",
      "marital           0\n",
      "education         0\n",
      "default           0\n",
      "housing           0\n",
      "loan              0\n",
      "contact           0\n",
      "month             0\n",
      "day_of_week       0\n",
      "duration          0\n",
      "campaign          0\n",
      "pdays             0\n",
      "previous          0\n",
      "poutcome          0\n",
      "emp.var.rate      0\n",
      "cons.price.idx    0\n",
      "cons.conf.idx     0\n",
      "euribor3m         0\n",
      "nr.employed       0\n",
      "y                 0\n",
      "dtype: int64\n"
     ]
    }
   ],
   "source": [
    "# No missing values.\n",
    "\n",
    "print(\"The number of missing values in all columns:\")\n",
    "print(bank.isnull().sum())"
   ]
  },
  {
   "cell_type": "code",
   "execution_count": 4,
   "metadata": {},
   "outputs": [
    {
     "name": "stdout",
     "output_type": "stream",
     "text": [
      "The frequencies of \"yes\" and \"no\" in the label:\n",
      "no     36548\n",
      "yes     4640\n",
      "Name: y, dtype: int64\n"
     ]
    }
   ],
   "source": [
    "# The distribution of the target variable suggests this is an imbalanced data set.\n",
    "\n",
    "print('The frequencies of \"yes\" and \"no\" in the label:')\n",
    "for i in range(20,21):\n",
    "    print(bank.iloc[:,i].value_counts())   "
   ]
  },
  {
   "cell_type": "code",
   "execution_count": 5,
   "metadata": {},
   "outputs": [
    {
     "data": {
      "image/png": "[encoded data removed]",
      "text/plain": [
       "<Figure size 432x288 with 1 Axes>"
      ]
     },
     "metadata": {
      "needs_background": "light"
     },
     "output_type": "display_data"
    }
   ],
   "source": [
    "# Explore the relationship between the target variable and a single explanatory variable\n",
    "\n",
    "def plot_exploratory_barchart(dataset, explanatory_variable, target_variable, width = 0.35, title = 'Percentage Plot'):\n",
    "    \n",
    "    \"\"\"\n",
    "    Plot a bar chart illustrating the percentages in each of the target subgroup by different values of the explanatory variable.\n",
    "    \n",
    "    Arguments:\n",
    "        -- dataset: the data set.\n",
    "        -- explanatory_variable: the attribute name, in string form.\n",
    "        -- target_variable: the name of the target attribute, in string form.\n",
    "        -- width: the width of the bars.\n",
    "        -- title: the title of the plot, in string form.\"\"\"\n",
    "        \n",
    "    labels_exp = list(dataset[explanatory_variable].unique())   # to store the unique values of the explanatory_variable\n",
    "    m = len(labels_exp) # number of unique values in the explanatory_variable\n",
    "        \n",
    "    labels_target = list(dataset[target_variable].unique())     # to store the unique values of the target_variable\n",
    "    n = len(labels_target)       # number of unique values in the target_variable\n",
    "        \n",
    "    # target_subgroup_lst stores n lists, each for one target subgroup.\n",
    "    # for example, target_subgroup_lst = [yes, no], where yes = ['cellular_yes', 'telephone_yes'] and no = ['cellular_no', 'telephone_no'] \n",
    "    target_subgroup_lst = []\n",
    "    for j in range(n):\n",
    "        target_subgroup = []\n",
    "        for i in range(m):\n",
    "            val = dataset[explanatory_variable][(bank.y==labels_target[j]) & (bank.contact == labels_exp[i])].count()\n",
    "            target_subgroup.append(val)\n",
    "        target_subgroup = [round(i/sum(target_subgroup),2) for i in target_subgroup]\n",
    "        target_subgroup_lst.append(target_subgroup)\n",
    "            \n",
    "    x = np.arange(len(labels_exp))  # the label locations\n",
    "    \n",
    "    fig, ax = plt.subplots()\n",
    "    rects_lst = []\n",
    "    for j in range(n):\n",
    "        rects = ax.bar(x + j*width, target_subgroup_lst[j], label=labels_target[j], width=width)  #x + width/2,\n",
    "        rects_lst.append(rects)\n",
    "\n",
    "    \n",
    "    # Add some text for labels, title and custom x-axis tick labels, etc.\n",
    "    ax.set_ylabel('Percentage')\n",
    "    ax.set_title(title)\n",
    "    ax.set_xticks(x)\n",
    "    ax.set_xticklabels(labels_exp)\n",
    "    ax.legend()\n",
    "    \n",
    "    # Add number on top of each bar\n",
    "    for rects in rects_lst: \n",
    "        for rect in rects:\n",
    "            height = rect.get_height()\n",
    "            ax.annotate('{}'.format(height),\n",
    "                        xy=(rect.get_x() + rect.get_width() / 2, height),\n",
    "                        xytext=(0, 3),  # 3 points vertical offset\n",
    "                        textcoords=\"offset points\",\n",
    "                        ha='center', va='bottom')\n",
    "    \n",
    "    fig.tight_layout()\n",
    "\n",
    "    plt.show()\n",
    "    \n",
    "plot_exploratory_barchart(bank, 'contact', 'y', title = \n",
    "                          'Percentages in Each of the Subscription and Unsubscription Group by Communication Type')"
   ]
  },
  {
   "cell_type": "markdown",
   "metadata": {},
   "source": [
    "For example, we can see that the contact method makes a difference in the subscription outcome."
   ]
  },
  {
   "cell_type": "code",
   "execution_count": 6,
   "metadata": {},
   "outputs": [],
   "source": [
    "# Define functions for data preprocessing.\n",
    "\n",
    "from sklearn.preprocessing import OrdinalEncoder\n",
    "from sklearn.preprocessing import LabelEncoder\n",
    "\n",
    "def Ordinal_encoding(dataset, attr, category = 'auto'):\n",
    "    \n",
    "    ''' Perform One Hot Encoding on an attribute of a dataset.\n",
    "    Arguments:\n",
    "        -- dataset: the data set.\n",
    "        -- attr: the attribute name, in string form.\n",
    "        -- category: should be a list, with the ith element is encoded as i (integer). default: 'auto'.\n",
    "        \n",
    "    Output:\n",
    "        return the dataset with added encoded attribute. And the original attribute is dropped'''\n",
    "    \n",
    "    enc = OrdinalEncoder(categories = [category])\n",
    "    dataset[attr + '_encoded'] = enc.fit_transform(dataset[attr].values.reshape(-1,1))\n",
    "    dataset.drop([attr], axis = 1,inplace=True)\n",
    "    \n",
    "    return dataset\n",
    "\n",
    "def label_encoding(dataset, attr):\n",
    "    \n",
    "    ''' Perform Label Encoding on the target attribute of a dataset.\n",
    "    Arguments:\n",
    "        -- dataset: the data set.\n",
    "        -- attr: the target attribute, in string form.\n",
    "        \n",
    "    Output:\n",
    "        return the dataset with encoded target attribute, with the original attribute dropped.'''\n",
    "        \n",
    "    le = LabelEncoder()\n",
    "    dataset[attr + '_encoded'] = le.fit_transform(dataset[attr])\n",
    "    dataset.drop([attr], axis = 1,inplace=True)\n",
    "    \n",
    "    return dataset    "
   ]
  },
  {
   "cell_type": "markdown",
   "metadata": {},
   "source": [
    "Data preprocessing. \n",
    "\n",
    "1. The target attribute has two values. Encode \"no\" and \"yes\" to 0 and 1, respectively.\n",
    "\n",
    "2. The column \"pdays\" has too many missing values and is not useable. Drop it.\n",
    "\n",
    "3. The column \"education\" is an ordinal attribute. Convert it into integers, with higher values representing higher levels of education.\n",
    "\n",
    "4. Encode other categorical variables."
   ]
  },
  {
   "cell_type": "code",
   "execution_count": 7,
   "metadata": {},
   "outputs": [],
   "source": [
    "# encode label\n",
    "bank = label_encoding(bank, 'y')   # no: 0, yes: 1\n",
    "\n",
    "# drop unwanted columns. 'pdays' has too many missing values. \n",
    "bank.drop(['pdays'], axis = 1, inplace=True)\n",
    "\n",
    "# preprocess ordinal variable: 'education'\n",
    "bank = Ordinal_encoding(bank, 'education', ['illiterate', 'basic.4y', 'basic.6y', 'basic.9y', 'unknown', 'high.school','professional.course', 'university.degree'])\n",
    "\n",
    "# convert categorical variables into numerical values\n",
    "bank = label_encoding(bank, 'job')\n",
    "bank = label_encoding(bank, 'marital')\n",
    "bank = label_encoding(bank, 'default')\n",
    "bank = label_encoding(bank, 'housing')\n",
    "bank = label_encoding(bank, 'contact')\n",
    "bank = label_encoding(bank, 'poutcome')\n",
    "bank = label_encoding(bank, 'loan')\n",
    "\n",
    "# encode time variables ('month', 'day_of_week')      # can be tuned. Other options are cyclical variable encoding and One-Hot encoding\n",
    "bank = label_encoding(bank, 'month')\n",
    "bank = label_encoding(bank, 'day_of_week')"
   ]
  },
  {
   "cell_type": "markdown",
   "metadata": {},
   "source": [
    "Split data set into test set (20%) and training set (80%, including validation set, will use cross validation later)."
   ]
  },
  {
   "cell_type": "code",
   "execution_count": 8,
   "metadata": {},
   "outputs": [],
   "source": [
    "import time\n",
    "from sklearn.model_selection import train_test_split\n",
    "from sklearn import metrics\n",
    "\n",
    "y = bank.iloc[:,bank.columns == 'y_encoded'].values.ravel() # convert to 1D, to meet the requirement of fit_transform().\n",
    "X = bank.iloc[:, bank.columns != 'y_encoded']\n",
    "        \n",
    "X_train, X_test, y_train, y_test = train_test_split(X,y,test_size =.20, random_state = 65, stratify = y)\n",
    "from sklearn.ensemble import RandomForestClassifier"
   ]
  },
  {
   "cell_type": "markdown",
   "metadata": {},
   "source": [
    "Techniques used to address the imbalanced data issue:\n",
    "\n",
    "1. Stratify the data for training and testing.\n",
    "\n",
    "2. Incorporating the weights of the classes into the cost function of the classifier. RandomForestClassifier in sklearn has an argument \"class_weight\", which penalizes the misclassification on the minority class. By setting class_weight = 'balance', sklearn sets the penalty ratio between the minority class and majority class as the inverse of the sample ratio between these two classes. \n",
    "\n",
    "3. Choose ROC AUC as the evaluation metric.\n",
    "\n",
    "Evaluation metric choice:\n",
    "\n",
    "1. Recall is important in this task because we don't want to miss the prospective clients. A relatively high false positive rate is acceptable because although these clients do not subscribe now, they may subscribe in the near future if our sales staff keep following up.\n",
    "\n",
    "2. Precision-recall AUC seems not suitable for these data after experiments. ROC AUC works quite well. Therefore, ROC AUC is selected as the evaluation metric.\n",
    "\n",
    "Strategy of hyperparameter search: First perform search in a wide range of values, then narrow the range to a more focused area around the best performing hyperparameter values."
   ]
  },
  {
   "cell_type": "code",
   "execution_count": 9,
   "metadata": {},
   "outputs": [
    {
     "data": {
      "text/html": [
       "<div>\n",
       "<style scoped>\n",
       "    .dataframe tbody tr th:only-of-type {\n",
       "        vertical-align: middle;\n",
       "    }\n",
       "\n",
       "    .dataframe tbody tr th {\n",
       "        vertical-align: top;\n",
       "    }\n",
       "\n",
       "    .dataframe thead th {\n",
       "        text-align: right;\n",
       "    }\n",
       "</style>\n",
       "<table border=\"1\" class=\"dataframe\">\n",
       "  <thead>\n",
       "    <tr style=\"text-align: right;\">\n",
       "      <th></th>\n",
       "      <th>mean_fit_time</th>\n",
       "      <th>std_fit_time</th>\n",
       "      <th>mean_score_time</th>\n",
       "      <th>std_score_time</th>\n",
       "      <th>param_max_depth</th>\n",
       "      <th>param_max_features</th>\n",
       "      <th>param_min_samples_leaf</th>\n",
       "      <th>param_min_samples_split</th>\n",
       "      <th>param_n_estimators</th>\n",
       "      <th>params</th>\n",
       "      <th>...</th>\n",
       "      <th>split1_test_roc_auc</th>\n",
       "      <th>split2_test_roc_auc</th>\n",
       "      <th>mean_test_roc_auc</th>\n",
       "      <th>std_test_roc_auc</th>\n",
       "      <th>rank_test_roc_auc</th>\n",
       "      <th>split0_train_roc_auc</th>\n",
       "      <th>split1_train_roc_auc</th>\n",
       "      <th>split2_train_roc_auc</th>\n",
       "      <th>mean_train_roc_auc</th>\n",
       "      <th>std_train_roc_auc</th>\n",
       "    </tr>\n",
       "  </thead>\n",
       "  <tbody>\n",
       "    <tr>\n",
       "      <th>0</th>\n",
       "      <td>2.673262</td>\n",
       "      <td>1.343248</td>\n",
       "      <td>0.163373</td>\n",
       "      <td>0.060227</td>\n",
       "      <td>5</td>\n",
       "      <td>sqrt</td>\n",
       "      <td>10</td>\n",
       "      <td>5</td>\n",
       "      <td>250</td>\n",
       "      <td>{'max_depth': 5, 'max_features': 'sqrt', 'min_...</td>\n",
       "      <td>...</td>\n",
       "      <td>0.882375</td>\n",
       "      <td>0.878883</td>\n",
       "      <td>0.878299</td>\n",
       "      <td>0.003590</td>\n",
       "      <td>24</td>\n",
       "      <td>0.887480</td>\n",
       "      <td>0.881533</td>\n",
       "      <td>0.883848</td>\n",
       "      <td>0.884287</td>\n",
       "      <td>0.002448</td>\n",
       "    </tr>\n",
       "    <tr>\n",
       "      <th>1</th>\n",
       "      <td>2.327981</td>\n",
       "      <td>0.118710</td>\n",
       "      <td>0.248376</td>\n",
       "      <td>0.002140</td>\n",
       "      <td>5</td>\n",
       "      <td>sqrt</td>\n",
       "      <td>10</td>\n",
       "      <td>5</td>\n",
       "      <td>350</td>\n",
       "      <td>{'max_depth': 5, 'max_features': 'sqrt', 'min_...</td>\n",
       "      <td>...</td>\n",
       "      <td>0.882073</td>\n",
       "      <td>0.881558</td>\n",
       "      <td>0.879131</td>\n",
       "      <td>0.003803</td>\n",
       "      <td>21</td>\n",
       "      <td>0.886924</td>\n",
       "      <td>0.881478</td>\n",
       "      <td>0.885172</td>\n",
       "      <td>0.884525</td>\n",
       "      <td>0.002270</td>\n",
       "    </tr>\n",
       "    <tr>\n",
       "      <th>2</th>\n",
       "      <td>1.657593</td>\n",
       "      <td>0.039451</td>\n",
       "      <td>0.211616</td>\n",
       "      <td>0.053863</td>\n",
       "      <td>5</td>\n",
       "      <td>sqrt</td>\n",
       "      <td>10</td>\n",
       "      <td>20</td>\n",
       "      <td>250</td>\n",
       "      <td>{'max_depth': 5, 'max_features': 'sqrt', 'min_...</td>\n",
       "      <td>...</td>\n",
       "      <td>0.884301</td>\n",
       "      <td>0.881577</td>\n",
       "      <td>0.879989</td>\n",
       "      <td>0.004318</td>\n",
       "      <td>19</td>\n",
       "      <td>0.887737</td>\n",
       "      <td>0.883364</td>\n",
       "      <td>0.883829</td>\n",
       "      <td>0.884976</td>\n",
       "      <td>0.001961</td>\n",
       "    </tr>\n",
       "    <tr>\n",
       "      <th>3</th>\n",
       "      <td>2.231664</td>\n",
       "      <td>0.079081</td>\n",
       "      <td>0.245435</td>\n",
       "      <td>0.007977</td>\n",
       "      <td>5</td>\n",
       "      <td>sqrt</td>\n",
       "      <td>10</td>\n",
       "      <td>20</td>\n",
       "      <td>350</td>\n",
       "      <td>{'max_depth': 5, 'max_features': 'sqrt', 'min_...</td>\n",
       "      <td>...</td>\n",
       "      <td>0.884049</td>\n",
       "      <td>0.882533</td>\n",
       "      <td>0.880736</td>\n",
       "      <td>0.003666</td>\n",
       "      <td>16</td>\n",
       "      <td>0.887698</td>\n",
       "      <td>0.882892</td>\n",
       "      <td>0.885541</td>\n",
       "      <td>0.885377</td>\n",
       "      <td>0.001965</td>\n",
       "    </tr>\n",
       "    <tr>\n",
       "      <th>4</th>\n",
       "      <td>1.600431</td>\n",
       "      <td>0.047613</td>\n",
       "      <td>0.127113</td>\n",
       "      <td>0.001529</td>\n",
       "      <td>5</td>\n",
       "      <td>sqrt</td>\n",
       "      <td>20</td>\n",
       "      <td>5</td>\n",
       "      <td>250</td>\n",
       "      <td>{'max_depth': 5, 'max_features': 'sqrt', 'min_...</td>\n",
       "      <td>...</td>\n",
       "      <td>0.880347</td>\n",
       "      <td>0.879024</td>\n",
       "      <td>0.877931</td>\n",
       "      <td>0.002540</td>\n",
       "      <td>25</td>\n",
       "      <td>0.887277</td>\n",
       "      <td>0.880256</td>\n",
       "      <td>0.882463</td>\n",
       "      <td>0.883332</td>\n",
       "      <td>0.002931</td>\n",
       "    </tr>\n",
       "  </tbody>\n",
       "</table>\n",
       "<p>5 rows × 32 columns</p>\n",
       "</div>"
      ],
      "text/plain": [
       "   mean_fit_time  std_fit_time  mean_score_time  std_score_time  \\\n",
       "0       2.673262      1.343248         0.163373        0.060227   \n",
       "1       2.327981      0.118710         0.248376        0.002140   \n",
       "2       1.657593      0.039451         0.211616        0.053863   \n",
       "3       2.231664      0.079081         0.245435        0.007977   \n",
       "4       1.600431      0.047613         0.127113        0.001529   \n",
       "\n",
       "  param_max_depth param_max_features param_min_samples_leaf  \\\n",
       "0               5               sqrt                     10   \n",
       "1               5               sqrt                     10   \n",
       "2               5               sqrt                     10   \n",
       "3               5               sqrt                     10   \n",
       "4               5               sqrt                     20   \n",
       "\n",
       "  param_min_samples_split param_n_estimators  \\\n",
       "0                       5                250   \n",
       "1                       5                350   \n",
       "2                      20                250   \n",
       "3                      20                350   \n",
       "4                       5                250   \n",
       "\n",
       "                                              params  ...  \\\n",
       "0  {'max_depth': 5, 'max_features': 'sqrt', 'min_...  ...   \n",
       "1  {'max_depth': 5, 'max_features': 'sqrt', 'min_...  ...   \n",
       "2  {'max_depth': 5, 'max_features': 'sqrt', 'min_...  ...   \n",
       "3  {'max_depth': 5, 'max_features': 'sqrt', 'min_...  ...   \n",
       "4  {'max_depth': 5, 'max_features': 'sqrt', 'min_...  ...   \n",
       "\n",
       "   split1_test_roc_auc  split2_test_roc_auc  mean_test_roc_auc  \\\n",
       "0             0.882375             0.878883           0.878299   \n",
       "1             0.882073             0.881558           0.879131   \n",
       "2             0.884301             0.881577           0.879989   \n",
       "3             0.884049             0.882533           0.880736   \n",
       "4             0.880347             0.879024           0.877931   \n",
       "\n",
       "   std_test_roc_auc  rank_test_roc_auc  split0_train_roc_auc  \\\n",
       "0          0.003590                 24              0.887480   \n",
       "1          0.003803                 21              0.886924   \n",
       "2          0.004318                 19              0.887737   \n",
       "3          0.003666                 16              0.887698   \n",
       "4          0.002540                 25              0.887277   \n",
       "\n",
       "   split1_train_roc_auc  split2_train_roc_auc  mean_train_roc_auc  \\\n",
       "0              0.881533              0.883848            0.884287   \n",
       "1              0.881478              0.885172            0.884525   \n",
       "2              0.883364              0.883829            0.884976   \n",
       "3              0.882892              0.885541            0.885377   \n",
       "4              0.880256              0.882463            0.883332   \n",
       "\n",
       "   std_train_roc_auc  \n",
       "0           0.002448  \n",
       "1           0.002270  \n",
       "2           0.001961  \n",
       "3           0.001965  \n",
       "4           0.002931  \n",
       "\n",
       "[5 rows x 32 columns]"
      ]
     },
     "execution_count": 9,
     "metadata": {},
     "output_type": "execute_result"
    }
   ],
   "source": [
    "# Perform grid search for optimal hyperparameter search\n",
    "\n",
    "from sklearn.ensemble import RandomForestClassifier\n",
    "from sklearn.model_selection import GridSearchCV\n",
    "\n",
    "classifier = RandomForestClassifier(class_weight = 'balanced', n_jobs = -1, oob_score = True)\n",
    "\n",
    "parameters = {'n_estimators': [250, 350], 'max_depth': [5, 6], 'max_features': [\"sqrt\", \"log2\"],\n",
    "              'min_samples_split': [5, 20], 'min_samples_leaf': [10, 20]}\n",
    "\n",
    "scoring = {\n",
    "    'recall': make_scorer(recall_score),\n",
    "    'roc_auc': make_scorer(roc_auc_score)   \n",
    "  }\n",
    "\n",
    "nfolds = 3\n",
    "\n",
    "gs = GridSearchCV(estimator = classifier, param_grid = parameters, scoring = scoring,  \n",
    "                        refit = 'roc_auc', cv = nfolds, return_train_score = True)\n",
    "search = gs.fit(X_train, y_train)\n",
    "\n",
    "results = pd.DataFrame(search.cv_results_)\n",
    "results.head()"
   ]
  },
  {
   "cell_type": "code",
   "execution_count": 10,
   "metadata": {},
   "outputs": [
    {
     "name": "stdout",
     "output_type": "stream",
     "text": [
      "roc_auc:  0.9398171788763621\n",
      "recall:  0.9331896551724138\n",
      "confusion_matrix: \n",
      "[[6103 1207]\n",
      " [  62  866]]\n"
     ]
    }
   ],
   "source": [
    "# Examine the best model \n",
    "best_rf = RandomForestClassifier(n_estimators = 350, class_weight = 'balanced', n_jobs = -1, oob_score = True, max_depth= 6,\n",
    "                                    min_samples_split=10, min_samples_leaf=5)\n",
    "best_rf.fit(X_train,y_train)\n",
    "y_pred = best_rf.predict(X_test)\n",
    "y_score = best_rf.predict_proba(X_test)[:,1]\n",
    "\n",
    "recall = recall_score(y_test, y_pred) \n",
    "roc_auc = roc_auc_score(y_test, y_score) \n",
    "cm = confusion_matrix(y_test, y_pred) \n",
    "print('roc_auc: ', roc_auc)\n",
    "print('recall: ', recall)\n",
    "print('confusion_matrix: ')\n",
    "print(cm)"
   ]
  },
  {
   "cell_type": "code",
   "execution_count": 11,
   "metadata": {},
   "outputs": [
    {
     "data": {
      "image/png": "[encoded data removed]",
      "text/plain": [
       "<Figure size 432x288 with 1 Axes>"
      ]
     },
     "metadata": {
      "needs_background": "light"
     },
     "output_type": "display_data"
    }
   ],
   "source": [
    "# Plot ROC of the best model\n",
    "y_prob = best_rf.predict_proba(X_test)[:,1]   \n",
    "fpr, tpr, threshold = metrics.roc_curve(y_test, y_prob)\n",
    "roc_auc = metrics.auc(fpr, tpr)\n",
    "\n",
    "plt.title('Receiver Operating Characteristic')\n",
    "plt.plot(fpr, tpr, 'b', label = 'AUC = %0.2f' % roc_auc)\n",
    "plt.legend(loc = 'lower right')\n",
    "plt.plot([0, 1], [0, 1],'r--')\n",
    "plt.xlim([0, 1])\n",
    "plt.ylim([0, 1])\n",
    "plt.ylabel('True Positive Rate')\n",
    "plt.xlabel('False Positive Rate')\n",
    "plt.show()"
   ]
  },
  {
   "cell_type": "code",
   "execution_count": 12,
   "metadata": {},
   "outputs": [
    {
     "data": {
      "image/png": "[encoded data removed]",
      "text/plain": [
       "<Figure size 432x288 with 1 Axes>"
      ]
     },
     "metadata": {
      "needs_background": "light"
     },
     "output_type": "display_data"
    }
   ],
   "source": [
    "# Feature importance of the best model\n",
    "features = X_test.columns.values.tolist()\n",
    "importance = best_rf.feature_importances_  \n",
    "indices = np.argsort(importance)\n",
    "\n",
    "plt.title('Feature Importance')\n",
    "plt.barh(range(len(indices)), importance[indices], color='b', align='center')\n",
    "plt.yticks(range(len(indices)), [features[i] for i in indices])\n",
    "plt.xlabel('Relative Importance')\n",
    "plt.show()"
   ]
  },
  {
   "cell_type": "markdown",
   "metadata": {},
   "source": [
    "Random Forest has good interpretability, good performance and is computationally efficient."
   ]
  }
 ],
 "metadata": {
  "kernelspec": {
   "display_name": "Python 3",
   "language": "python",
   "name": "python3"
  },
  "language_info": {
   "codemirror_mode": {
    "name": "ipython",
    "version": 3
   },
   "file_extension": ".py",
   "mimetype": "text/x-python",
   "name": "python",
   "nbconvert_exporter": "python",
   "pygments_lexer": "ipython3",
   "version": "3.7.9"
  }
 },
 "nbformat": 4,
 "nbformat_minor": 4
}
